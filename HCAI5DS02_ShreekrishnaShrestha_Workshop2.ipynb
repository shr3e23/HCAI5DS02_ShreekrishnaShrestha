{
  "nbformat": 4,
  "nbformat_minor": 0,
  "metadata": {
    "colab": {
      "provenance": [],
      "mount_file_id": "1VDpGqwdafp57Di9OuoMfIweh90BwhvuJ",
      "authorship_tag": "ABX9TyP/H1icLO7nFmxYLTGRo1Fe"
    },
    "kernelspec": {
      "name": "python3",
      "display_name": "Python 3"
    },
    "language_info": {
      "name": "python"
    }
  },
  "cells": [
    {
      "cell_type": "markdown",
      "source": [
        "6 Coding Exercise:\n"
      ],
      "metadata": {
        "id": "Qh6czboXqan7"
      }
    },
    {
      "cell_type": "markdown",
      "source": [
        "Identifying Defective Products in an E-Commerce Platform.\n",
        "\n",
        "Should we Recall This Product?\n",
        "\n",
        "Background:\n",
        "\n",
        "You are a data analyst at Quick-shop, an e-commerce company. The customer support team has flagged\n",
        "”Product X” for unusually high return rates. Before taking costly actions (e.g., recalls, supplier penalties),\n",
        "you need to determine whether the returns are due to defects (quality issues) or other factors (e.g., customer\n",
        "preferences).\n",
        "\n",
        "Your team has provided a dataset with 10,000 products, including:\n",
        "Dataset: \"product\\_review\\_dataset.csv\"\n",
        "\n",
        "• Defective (Binary: 1 = defective, 0 = not defective)\n",
        "\n",
        "• HighReturn (Binary: 1 = high return rate, 0 = low return rate)\n",
        "\n",
        "• ReviewRating (Numeric: 1–5 star rating)\n",
        "\n",
        "• HasComplaint (Boolean: True/False)\n",
        "\n",
        "• VerifiedPurchase (Boolean: True/False)\n",
        "\n",
        "Sample row:\n",
        "\n",
        "Defective=0, HighReturn=1, ReviewRating=3.8, HasComplaint=False, VerifiedPurchase=True"
      ],
      "metadata": {
        "id": "PK7AMoHBqbzH"
      }
    },
    {
      "cell_type": "markdown",
      "source": [
        "Tasks\n",
        "1. Exploratory Analysis\n",
        "1. Compute the prior probability that a product is defective (P(Defective))\n",
        "2. Compare the average review rating for defective vs. non-defective products\n",
        "3. Calculate the return rate separately for:\n",
        "\n",
        "  • Defective products\n",
        "  \n",
        "  • Non-defective products\n"
      ],
      "metadata": {
        "id": "vKRtNoZ3q5ha"
      }
    },
    {
      "cell_type": "code",
      "metadata": {
        "colab": {
          "base_uri": "https://localhost:8080/",
          "height": 0
        },
        "id": "c2eccb05",
        "outputId": "f4961784-595c-4c10-a565-f558cee1872d"
      },
      "source": [
        "from google.colab import drive\n",
        "drive.mount('/content/drive')"
      ],
      "execution_count": 1,
      "outputs": [
        {
          "output_type": "stream",
          "name": "stdout",
          "text": [
            "Drive already mounted at /content/drive; to attempt to forcibly remount, call drive.mount(\"/content/drive\", force_remount=True).\n"
          ]
        }
      ]
    },
    {
      "cell_type": "code",
      "metadata": {
        "id": "126f191c"
      },
      "source": [
        "import pandas as pd\n",
        "\n",
        "file_path = '/content/drive/MyDrive/data analysis/product_review_dataset.csv'\n",
        "df = pd.read_csv(file_path)\n"
      ],
      "execution_count": 2,
      "outputs": []
    },
    {
      "cell_type": "code",
      "source": [
        "print(df.info)\n"
      ],
      "metadata": {
        "colab": {
          "base_uri": "https://localhost:8080/",
          "height": 0
        },
        "id": "1TQRhxkaGQOC",
        "outputId": "06ce7a17-d514-40c8-fa6c-99ee1490fc8b"
      },
      "execution_count": 3,
      "outputs": [
        {
          "output_type": "stream",
          "name": "stdout",
          "text": [
            "<bound method DataFrame.info of       Defective  HighReturn  ReviewRating  HasComplaint  VerifiedPurchase\n",
            "0             0           0           3.8         False              True\n",
            "1             1           1           2.9         False              True\n",
            "2             0           0           3.6         False              True\n",
            "3             0           0           4.6         False              True\n",
            "4             0           0           3.9         False              True\n",
            "...         ...         ...           ...           ...               ...\n",
            "9995          0           0           3.6         False             False\n",
            "9996          0           0           4.1         False              True\n",
            "9997          1           1           3.3         False              True\n",
            "9998          0           0           4.1         False             False\n",
            "9999          0           0           4.3         False              True\n",
            "\n",
            "[10000 rows x 5 columns]>\n"
          ]
        }
      ]
    },
    {
      "cell_type": "code",
      "source": [
        "print(df.describe())\n"
      ],
      "metadata": {
        "colab": {
          "base_uri": "https://localhost:8080/",
          "height": 0
        },
        "id": "RpukJbqyGTbf",
        "outputId": "545d1d32-68e7-4537-bf84-65a145561197"
      },
      "execution_count": 4,
      "outputs": [
        {
          "output_type": "stream",
          "name": "stdout",
          "text": [
            "          Defective    HighReturn  ReviewRating\n",
            "count  10000.000000  10000.000000  10000.000000\n",
            "mean       0.096100      0.159600      4.015620\n",
            "std        0.294743      0.366253      0.712447\n",
            "min        0.000000      0.000000      1.000000\n",
            "25%        0.000000      0.000000      3.700000\n",
            "50%        0.000000      0.000000      4.100000\n",
            "75%        0.000000      0.000000      4.500000\n",
            "max        1.000000      1.000000      5.000000\n"
          ]
        }
      ]
    },
    {
      "cell_type": "code",
      "source": [
        "P_Defective = df['Defective'].mean()\n",
        "\n",
        "avg_rating_defective = df[df['Defective'] == 1]['ReviewRating'].mean()\n",
        "avg_rating_non_defective = df[df['Defective'] == 0]['ReviewRating'].mean()\n",
        "\n",
        "return_rate_defective = df[df['Defective'] == 1]['HighReturn'].mean()\n",
        "return_rate_non_defective = df[df['Defective'] == 0]['HighReturn'].mean()\n",
        "\n",
        "P_Defective, avg_rating_defective, avg_rating_non_defective, return_rate_defective, return_rate_non_defective\n"
      ],
      "metadata": {
        "colab": {
          "base_uri": "https://localhost:8080/",
          "height": 0
        },
        "id": "gJX_UhbcGWxw",
        "outputId": "9f0eebe8-188c-4272-a81c-d611b850b444"
      },
      "execution_count": 6,
      "outputs": [
        {
          "output_type": "execute_result",
          "data": {
            "text/plain": [
              "(np.float64(0.0961),\n",
              " np.float64(2.4836628511966703),\n",
              " np.float64(4.178493196150017),\n",
              " np.float64(0.696149843912591),\n",
              " np.float64(0.10255559243279123))"
            ]
          },
          "metadata": {},
          "execution_count": 6
        }
      ]
    },
    {
      "cell_type": "code",
      "source": [
        "# Task 2.1: Bayesian Inference\n",
        "# P(HighReturn | Defective)\n",
        "P_HighReturn_given_Defective = return_rate_defective\n",
        "\n",
        "# P(HighReturn | Not Defective)\n",
        "P_HighReturn_given_NotDefective = return_rate_non_defective\n",
        "\n",
        "# P(HighReturn)\n",
        "P_HighReturn = df['HighReturn'].mean()\n",
        "\n",
        "# P(Defective | HighReturn) = P(HighReturn | Defective) * P(Defective) / P(HighReturn)\n",
        "P_Defective_given_HighReturn = (P_HighReturn_given_Defective * P_Defective) / P_HighReturn\n",
        "\n",
        "P_HighReturn, P_HighReturn_given_Defective, P_HighReturn_given_NotDefective, P_Defective_given_HighReturn\n"
      ],
      "metadata": {
        "colab": {
          "base_uri": "https://localhost:8080/",
          "height": 0
        },
        "id": "ntO05hmbcVqN",
        "outputId": "f2e84b9e-d7d0-46c9-b914-ed5028eb36b1"
      },
      "execution_count": 7,
      "outputs": [
        {
          "output_type": "execute_result",
          "data": {
            "text/plain": [
              "(np.float64(0.1596),\n",
              " np.float64(0.696149843912591),\n",
              " np.float64(0.10255559243279123),\n",
              " np.float64(0.4191729323308271))"
            ]
          },
          "metadata": {},
          "execution_count": 7
        }
      ]
    },
    {
      "cell_type": "markdown",
      "source": [
        "**If P(Defective | HighReturn)= 42%**\n",
        "\n",
        "\n",
        "This means that among products with high return rates, only about 42% are likely defective.\n",
        "\n",
        "**Should QuickShop prioritize recalls based solely on this probability? Justify your answer.**\n",
        "\n",
        "Quick-Shop should not recall products solely based on high return rates, since over half of high-return products are likely not defective."
      ],
      "metadata": {
        "id": "bKH0lRfGdA4k"
      }
    },
    {
      "cell_type": "code",
      "source": [
        "# Task 3.1: Create a risk score combining HighReturn, LowRating, Complaints\n",
        "\n",
        "# Define LowRating as ReviewRating <= 2\n",
        "df['LowRating'] = df['ReviewRating'] <= 2\n",
        "\n",
        "# Risk Score: sum of HighReturn, LowRating, HasComplaint (True = 1)\n",
        "df['RiskScore'] = df['HighReturn'] + df['LowRating'].astype(int) + df['HasComplaint'].astype(int)\n",
        "\n",
        "# Top 10 highest-risk products\n",
        "top_10_risk = df.sort_values(by='RiskScore', ascending=False).head(10)\n",
        "\n",
        "# Display relevant columns\n",
        "top_10_risk[['Defective', 'HighReturn', 'ReviewRating', 'HasComplaint', 'RiskScore']]\n"
      ],
      "metadata": {
        "colab": {
          "base_uri": "https://localhost:8080/",
          "height": 363
        },
        "id": "oCxVUEH8dmts",
        "outputId": "37e29834-d466-4112-ca08-b2ce540c1a01"
      },
      "execution_count": 8,
      "outputs": [
        {
          "output_type": "execute_result",
          "data": {
            "text/plain": [
              "      Defective  HighReturn  ReviewRating  HasComplaint  RiskScore\n",
              "9983          1           1           1.5          True          3\n",
              "7942          1           1           1.1          True          3\n",
              "7924          1           1           1.6          True          3\n",
              "8392          1           1           1.8          True          3\n",
              "7817          1           1           2.0          True          3\n",
              "7796          1           1           1.9          True          3\n",
              "2954          1           1           1.9          True          3\n",
              "2927          1           1           1.8          True          3\n",
              "2529          1           1           1.9          True          3\n",
              "2835          1           1           1.7          True          3"
            ],
            "text/html": [
              "\n",
              "  <div id=\"df-fc0ad570-fe0c-4579-a916-946aba8bbc90\" class=\"colab-df-container\">\n",
              "    <div>\n",
              "<style scoped>\n",
              "    .dataframe tbody tr th:only-of-type {\n",
              "        vertical-align: middle;\n",
              "    }\n",
              "\n",
              "    .dataframe tbody tr th {\n",
              "        vertical-align: top;\n",
              "    }\n",
              "\n",
              "    .dataframe thead th {\n",
              "        text-align: right;\n",
              "    }\n",
              "</style>\n",
              "<table border=\"1\" class=\"dataframe\">\n",
              "  <thead>\n",
              "    <tr style=\"text-align: right;\">\n",
              "      <th></th>\n",
              "      <th>Defective</th>\n",
              "      <th>HighReturn</th>\n",
              "      <th>ReviewRating</th>\n",
              "      <th>HasComplaint</th>\n",
              "      <th>RiskScore</th>\n",
              "    </tr>\n",
              "  </thead>\n",
              "  <tbody>\n",
              "    <tr>\n",
              "      <th>9983</th>\n",
              "      <td>1</td>\n",
              "      <td>1</td>\n",
              "      <td>1.5</td>\n",
              "      <td>True</td>\n",
              "      <td>3</td>\n",
              "    </tr>\n",
              "    <tr>\n",
              "      <th>7942</th>\n",
              "      <td>1</td>\n",
              "      <td>1</td>\n",
              "      <td>1.1</td>\n",
              "      <td>True</td>\n",
              "      <td>3</td>\n",
              "    </tr>\n",
              "    <tr>\n",
              "      <th>7924</th>\n",
              "      <td>1</td>\n",
              "      <td>1</td>\n",
              "      <td>1.6</td>\n",
              "      <td>True</td>\n",
              "      <td>3</td>\n",
              "    </tr>\n",
              "    <tr>\n",
              "      <th>8392</th>\n",
              "      <td>1</td>\n",
              "      <td>1</td>\n",
              "      <td>1.8</td>\n",
              "      <td>True</td>\n",
              "      <td>3</td>\n",
              "    </tr>\n",
              "    <tr>\n",
              "      <th>7817</th>\n",
              "      <td>1</td>\n",
              "      <td>1</td>\n",
              "      <td>2.0</td>\n",
              "      <td>True</td>\n",
              "      <td>3</td>\n",
              "    </tr>\n",
              "    <tr>\n",
              "      <th>7796</th>\n",
              "      <td>1</td>\n",
              "      <td>1</td>\n",
              "      <td>1.9</td>\n",
              "      <td>True</td>\n",
              "      <td>3</td>\n",
              "    </tr>\n",
              "    <tr>\n",
              "      <th>2954</th>\n",
              "      <td>1</td>\n",
              "      <td>1</td>\n",
              "      <td>1.9</td>\n",
              "      <td>True</td>\n",
              "      <td>3</td>\n",
              "    </tr>\n",
              "    <tr>\n",
              "      <th>2927</th>\n",
              "      <td>1</td>\n",
              "      <td>1</td>\n",
              "      <td>1.8</td>\n",
              "      <td>True</td>\n",
              "      <td>3</td>\n",
              "    </tr>\n",
              "    <tr>\n",
              "      <th>2529</th>\n",
              "      <td>1</td>\n",
              "      <td>1</td>\n",
              "      <td>1.9</td>\n",
              "      <td>True</td>\n",
              "      <td>3</td>\n",
              "    </tr>\n",
              "    <tr>\n",
              "      <th>2835</th>\n",
              "      <td>1</td>\n",
              "      <td>1</td>\n",
              "      <td>1.7</td>\n",
              "      <td>True</td>\n",
              "      <td>3</td>\n",
              "    </tr>\n",
              "  </tbody>\n",
              "</table>\n",
              "</div>\n",
              "    <div class=\"colab-df-buttons\">\n",
              "\n",
              "  <div class=\"colab-df-container\">\n",
              "    <button class=\"colab-df-convert\" onclick=\"convertToInteractive('df-fc0ad570-fe0c-4579-a916-946aba8bbc90')\"\n",
              "            title=\"Convert this dataframe to an interactive table.\"\n",
              "            style=\"display:none;\">\n",
              "\n",
              "  <svg xmlns=\"http://www.w3.org/2000/svg\" height=\"24px\" viewBox=\"0 -960 960 960\">\n",
              "    <path d=\"M120-120v-720h720v720H120Zm60-500h600v-160H180v160Zm220 220h160v-160H400v160Zm0 220h160v-160H400v160ZM180-400h160v-160H180v160Zm440 0h160v-160H620v160ZM180-180h160v-160H180v160Zm440 0h160v-160H620v160Z\"/>\n",
              "  </svg>\n",
              "    </button>\n",
              "\n",
              "  <style>\n",
              "    .colab-df-container {\n",
              "      display:flex;\n",
              "      gap: 12px;\n",
              "    }\n",
              "\n",
              "    .colab-df-convert {\n",
              "      background-color: #E8F0FE;\n",
              "      border: none;\n",
              "      border-radius: 50%;\n",
              "      cursor: pointer;\n",
              "      display: none;\n",
              "      fill: #1967D2;\n",
              "      height: 32px;\n",
              "      padding: 0 0 0 0;\n",
              "      width: 32px;\n",
              "    }\n",
              "\n",
              "    .colab-df-convert:hover {\n",
              "      background-color: #E2EBFA;\n",
              "      box-shadow: 0px 1px 2px rgba(60, 64, 67, 0.3), 0px 1px 3px 1px rgba(60, 64, 67, 0.15);\n",
              "      fill: #174EA6;\n",
              "    }\n",
              "\n",
              "    .colab-df-buttons div {\n",
              "      margin-bottom: 4px;\n",
              "    }\n",
              "\n",
              "    [theme=dark] .colab-df-convert {\n",
              "      background-color: #3B4455;\n",
              "      fill: #D2E3FC;\n",
              "    }\n",
              "\n",
              "    [theme=dark] .colab-df-convert:hover {\n",
              "      background-color: #434B5C;\n",
              "      box-shadow: 0px 1px 3px 1px rgba(0, 0, 0, 0.15);\n",
              "      filter: drop-shadow(0px 1px 2px rgba(0, 0, 0, 0.3));\n",
              "      fill: #FFFFFF;\n",
              "    }\n",
              "  </style>\n",
              "\n",
              "    <script>\n",
              "      const buttonEl =\n",
              "        document.querySelector('#df-fc0ad570-fe0c-4579-a916-946aba8bbc90 button.colab-df-convert');\n",
              "      buttonEl.style.display =\n",
              "        google.colab.kernel.accessAllowed ? 'block' : 'none';\n",
              "\n",
              "      async function convertToInteractive(key) {\n",
              "        const element = document.querySelector('#df-fc0ad570-fe0c-4579-a916-946aba8bbc90');\n",
              "        const dataTable =\n",
              "          await google.colab.kernel.invokeFunction('convertToInteractive',\n",
              "                                                    [key], {});\n",
              "        if (!dataTable) return;\n",
              "\n",
              "        const docLinkHtml = 'Like what you see? Visit the ' +\n",
              "          '<a target=\"_blank\" href=https://colab.research.google.com/notebooks/data_table.ipynb>data table notebook</a>'\n",
              "          + ' to learn more about interactive tables.';\n",
              "        element.innerHTML = '';\n",
              "        dataTable['output_type'] = 'display_data';\n",
              "        await google.colab.output.renderOutput(dataTable, element);\n",
              "        const docLink = document.createElement('div');\n",
              "        docLink.innerHTML = docLinkHtml;\n",
              "        element.appendChild(docLink);\n",
              "      }\n",
              "    </script>\n",
              "  </div>\n",
              "\n",
              "\n",
              "    <div id=\"df-12c9bcb8-0947-4c1e-b94f-6faf4472a9d4\">\n",
              "      <button class=\"colab-df-quickchart\" onclick=\"quickchart('df-12c9bcb8-0947-4c1e-b94f-6faf4472a9d4')\"\n",
              "                title=\"Suggest charts\"\n",
              "                style=\"display:none;\">\n",
              "\n",
              "<svg xmlns=\"http://www.w3.org/2000/svg\" height=\"24px\"viewBox=\"0 0 24 24\"\n",
              "     width=\"24px\">\n",
              "    <g>\n",
              "        <path d=\"M19 3H5c-1.1 0-2 .9-2 2v14c0 1.1.9 2 2 2h14c1.1 0 2-.9 2-2V5c0-1.1-.9-2-2-2zM9 17H7v-7h2v7zm4 0h-2V7h2v10zm4 0h-2v-4h2v4z\"/>\n",
              "    </g>\n",
              "</svg>\n",
              "      </button>\n",
              "\n",
              "<style>\n",
              "  .colab-df-quickchart {\n",
              "      --bg-color: #E8F0FE;\n",
              "      --fill-color: #1967D2;\n",
              "      --hover-bg-color: #E2EBFA;\n",
              "      --hover-fill-color: #174EA6;\n",
              "      --disabled-fill-color: #AAA;\n",
              "      --disabled-bg-color: #DDD;\n",
              "  }\n",
              "\n",
              "  [theme=dark] .colab-df-quickchart {\n",
              "      --bg-color: #3B4455;\n",
              "      --fill-color: #D2E3FC;\n",
              "      --hover-bg-color: #434B5C;\n",
              "      --hover-fill-color: #FFFFFF;\n",
              "      --disabled-bg-color: #3B4455;\n",
              "      --disabled-fill-color: #666;\n",
              "  }\n",
              "\n",
              "  .colab-df-quickchart {\n",
              "    background-color: var(--bg-color);\n",
              "    border: none;\n",
              "    border-radius: 50%;\n",
              "    cursor: pointer;\n",
              "    display: none;\n",
              "    fill: var(--fill-color);\n",
              "    height: 32px;\n",
              "    padding: 0;\n",
              "    width: 32px;\n",
              "  }\n",
              "\n",
              "  .colab-df-quickchart:hover {\n",
              "    background-color: var(--hover-bg-color);\n",
              "    box-shadow: 0 1px 2px rgba(60, 64, 67, 0.3), 0 1px 3px 1px rgba(60, 64, 67, 0.15);\n",
              "    fill: var(--button-hover-fill-color);\n",
              "  }\n",
              "\n",
              "  .colab-df-quickchart-complete:disabled,\n",
              "  .colab-df-quickchart-complete:disabled:hover {\n",
              "    background-color: var(--disabled-bg-color);\n",
              "    fill: var(--disabled-fill-color);\n",
              "    box-shadow: none;\n",
              "  }\n",
              "\n",
              "  .colab-df-spinner {\n",
              "    border: 2px solid var(--fill-color);\n",
              "    border-color: transparent;\n",
              "    border-bottom-color: var(--fill-color);\n",
              "    animation:\n",
              "      spin 1s steps(1) infinite;\n",
              "  }\n",
              "\n",
              "  @keyframes spin {\n",
              "    0% {\n",
              "      border-color: transparent;\n",
              "      border-bottom-color: var(--fill-color);\n",
              "      border-left-color: var(--fill-color);\n",
              "    }\n",
              "    20% {\n",
              "      border-color: transparent;\n",
              "      border-left-color: var(--fill-color);\n",
              "      border-top-color: var(--fill-color);\n",
              "    }\n",
              "    30% {\n",
              "      border-color: transparent;\n",
              "      border-left-color: var(--fill-color);\n",
              "      border-top-color: var(--fill-color);\n",
              "      border-right-color: var(--fill-color);\n",
              "    }\n",
              "    40% {\n",
              "      border-color: transparent;\n",
              "      border-right-color: var(--fill-color);\n",
              "      border-top-color: var(--fill-color);\n",
              "    }\n",
              "    60% {\n",
              "      border-color: transparent;\n",
              "      border-right-color: var(--fill-color);\n",
              "    }\n",
              "    80% {\n",
              "      border-color: transparent;\n",
              "      border-right-color: var(--fill-color);\n",
              "      border-bottom-color: var(--fill-color);\n",
              "    }\n",
              "    90% {\n",
              "      border-color: transparent;\n",
              "      border-bottom-color: var(--fill-color);\n",
              "    }\n",
              "  }\n",
              "</style>\n",
              "\n",
              "      <script>\n",
              "        async function quickchart(key) {\n",
              "          const quickchartButtonEl =\n",
              "            document.querySelector('#' + key + ' button');\n",
              "          quickchartButtonEl.disabled = true;  // To prevent multiple clicks.\n",
              "          quickchartButtonEl.classList.add('colab-df-spinner');\n",
              "          try {\n",
              "            const charts = await google.colab.kernel.invokeFunction(\n",
              "                'suggestCharts', [key], {});\n",
              "          } catch (error) {\n",
              "            console.error('Error during call to suggestCharts:', error);\n",
              "          }\n",
              "          quickchartButtonEl.classList.remove('colab-df-spinner');\n",
              "          quickchartButtonEl.classList.add('colab-df-quickchart-complete');\n",
              "        }\n",
              "        (() => {\n",
              "          let quickchartButtonEl =\n",
              "            document.querySelector('#df-12c9bcb8-0947-4c1e-b94f-6faf4472a9d4 button');\n",
              "          quickchartButtonEl.style.display =\n",
              "            google.colab.kernel.accessAllowed ? 'block' : 'none';\n",
              "        })();\n",
              "      </script>\n",
              "    </div>\n",
              "\n",
              "    </div>\n",
              "  </div>\n"
            ],
            "application/vnd.google.colaboratory.intrinsic+json": {
              "type": "dataframe",
              "summary": "{\n  \"name\": \"top_10_risk[['Defective', 'HighReturn', 'ReviewRating', 'HasComplaint', 'RiskScore']]\",\n  \"rows\": 10,\n  \"fields\": [\n    {\n      \"column\": \"Defective\",\n      \"properties\": {\n        \"dtype\": \"number\",\n        \"std\": 0,\n        \"min\": 1,\n        \"max\": 1,\n        \"num_unique_values\": 1,\n        \"samples\": [\n          1\n        ],\n        \"semantic_type\": \"\",\n        \"description\": \"\"\n      }\n    },\n    {\n      \"column\": \"HighReturn\",\n      \"properties\": {\n        \"dtype\": \"number\",\n        \"std\": 0,\n        \"min\": 1,\n        \"max\": 1,\n        \"num_unique_values\": 1,\n        \"samples\": [\n          1\n        ],\n        \"semantic_type\": \"\",\n        \"description\": \"\"\n      }\n    },\n    {\n      \"column\": \"ReviewRating\",\n      \"properties\": {\n        \"dtype\": \"number\",\n        \"std\": 0.2658320271650251,\n        \"min\": 1.1,\n        \"max\": 2.0,\n        \"num_unique_values\": 7,\n        \"samples\": [\n          1.5\n        ],\n        \"semantic_type\": \"\",\n        \"description\": \"\"\n      }\n    },\n    {\n      \"column\": \"HasComplaint\",\n      \"properties\": {\n        \"dtype\": \"boolean\",\n        \"num_unique_values\": 1,\n        \"samples\": [\n          true\n        ],\n        \"semantic_type\": \"\",\n        \"description\": \"\"\n      }\n    },\n    {\n      \"column\": \"RiskScore\",\n      \"properties\": {\n        \"dtype\": \"number\",\n        \"std\": 0,\n        \"min\": 3,\n        \"max\": 3,\n        \"num_unique_values\": 1,\n        \"samples\": [\n          3\n        ],\n        \"semantic_type\": \"\",\n        \"description\": \"\"\n      }\n    }\n  ]\n}"
            }
          },
          "metadata": {},
          "execution_count": 8
        }
      ]
    },
    {
      "cell_type": "markdown",
      "source": [
        "For a product with:\n",
        "\n",
        " • HighReturn=1\n",
        "\n",
        " • ReviewRating=1.5\n",
        "\n",
        " • HasComplaint=True\n",
        "\n",
        " • VerifiedPurchase=False\n",
        "\n",
        " Would you recommend a recall? Justify using your calculations."
      ],
      "metadata": {
        "id": "XCEKbq5hfb0h"
      }
    },
    {
      "cell_type": "markdown",
      "source": [
        "Risk factor:\n",
        "\n",
        "High return\n",
        "\n",
        "Low rating\n",
        "\n",
        "Has compliant\n",
        "\n",
        "Risk Score is 3 which is very risk\n",
        "\n",
        "What we know from the data is 42% of high return products are actually defective. Low review rating and complaints make defect suspicion even stronger.But lack of VerifiedPurchase means the review or complaint may be unreliable.\n",
        "\n",
        "**Recommendations:**\n",
        "\n",
        "A full recall for just this product is not justified solely on this data point, but further investigation is strongly recommended:\n",
        "\n",
        ". Pull more customer service tickets.\n",
        "\n",
        ". Inspect a sample batch.\n",
        "\n",
        ". Check supplier quality reports.\n",
        "\n",
        "If similar patterns are found across multiple verified purchases, then a targeted recall or supplier action is justified.\n",
        "\n"
      ],
      "metadata": {
        "id": "7OQZNsHDflss"
      }
    },
    {
      "cell_type": "markdown",
      "source": [
        "**Propose what additional data would improve this analysis**\n",
        "\n",
        "For better evidence based decisions quick shop should collect:\n",
        "\n",
        "\n",
        "*   Detailed return reasons (eg: wrong size, late delivery, wrong product)\n",
        "*   Defect inspection reports from returned units\n",
        "\n",
        "\n",
        "*   Batch or lot numbers to defect faulty production batches\n",
        "*   Customer demographics to see if returns are tied to certain groups or locations.\n",
        "*   Supplier/manufacturer defect history.\n",
        "*    Verified purchase confirmations to weed out fake complaints.\n",
        "\n",
        "\n",
        "\n",
        "\n"
      ],
      "metadata": {
        "id": "-Djriit_h01t"
      }
    }
  ]
}